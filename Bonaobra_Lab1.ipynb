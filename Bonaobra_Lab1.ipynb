{
 "cells": [
  {
   "cell_type": "code",
   "execution_count": 18,
   "metadata": {},
   "outputs": [],
   "source": [
    "from pyspark import SparkConf, SparkContext # import the necessary libraries"
   ]
  },
  {
   "cell_type": "code",
   "execution_count": 14,
   "metadata": {},
   "outputs": [],
   "source": [
    "conf = SparkConf().setAppName(\"RDD Pipeline Example\").setMaster(\"local\") # initialize a SparkContext\n",
    "if 'sc' in locals():\n",
    "    sc.stop()\n",
    "sc = SparkContext(conf=conf)"
   ]
  },
  {
   "cell_type": "code",
   "execution_count": 19,
   "metadata": {},
   "outputs": [
    {
     "name": "stdout",
     "output_type": "stream",
     "text": [
      "banana: 3\n",
      "cherry: 2\n"
     ]
    }
   ],
   "source": [
    "data = [\"Apple\", \"Banana\", \"Cherry\", \"Apple\", \"banana\", \"Cherry\", \"APPLE\", \"banana\"] # create an rdd from a python list\n",
    "rdd = sc.parallelize(data)\n",
    "\n",
    "# 5 transformations\n",
    "lower_rdd = rdd.map(lambda word: word.lower())  # convert to lowercase\n",
    "filtered_rdd = lower_rdd.filter(lambda word: len(word) > 5)  # keep words with more than 5 letters\n",
    "pairs = filtered_rdd.map(lambda word: (word, 1))  # map each word to (word, 1)\n",
    "word_counts = pairs.reduceByKey(lambda a, b: a + b)  # reduce by key to count occurrences\n",
    "sorted_counts = word_counts.sortBy(lambda pair: pair[1], ascending=False)  # sort words by frequency\n",
    "\n",
    "results = sorted_counts.collect() # perform actions\n",
    "\n",
    "for word, count in results: # display the results\n",
    "    print(f\"{word}: {count}\")\n",
    "\n",
    "sc.stop() # stop the sparkcontext\n"
   ]
  }
 ],
 "metadata": {
  "kernelspec": {
   "display_name": "Python 3",
   "language": "python",
   "name": "python3"
  },
  "language_info": {
   "codemirror_mode": {
    "name": "ipython",
    "version": 3
   },
   "file_extension": ".py",
   "mimetype": "text/x-python",
   "name": "python",
   "nbconvert_exporter": "python",
   "pygments_lexer": "ipython3",
   "version": "3.10.0"
  }
 },
 "nbformat": 4,
 "nbformat_minor": 2
}
